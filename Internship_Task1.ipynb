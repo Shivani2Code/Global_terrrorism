{
 "cells": [
  {
   "cell_type": "markdown",
   "id": "9b3e029e",
   "metadata": {},
   "source": [
    "###  <p style=\"text-align: center;\"> <b>Monthly Intership Program for Professionals</b></p>"
   ]
  },
  {
   "cell_type": "markdown",
   "id": "9a18a770",
   "metadata": {},
   "source": [
    "### <p style=\"text-align: center;\"><span style=\"color:red\"><b> **THE CODERS READY**</b></span></p>"
   ]
  },
  {
   "cell_type": "markdown",
   "id": "ea612af2",
   "metadata": {},
   "source": [
    "### <p style=\"text-align: center;\"><b>Data Science And Business Analytics - Task1</b></p>"
   ]
  },
  {
   "cell_type": "markdown",
   "id": "75412b88",
   "metadata": {},
   "source": [
    "### <b> Name - Shivani Rattan Bhardwaj</b>"
   ]
  },
  {
   "cell_type": "markdown",
   "id": "012a4905",
   "metadata": {},
   "source": [
    "### <b>Trainee Intern @ CodersReady</b>"
   ]
  },
  {
   "cell_type": "markdown",
   "id": "5a8c73cc",
   "metadata": {},
   "source": [
    "### <p style=\"text-align: center;\"> </b> Task1 - DATA ANALYSIS OF A TERRORISM DATA<br> <b>EXPLORATORY DATA ANALYSIS <span style =\"font-size: 20px;\">DATASET:<b> 'GLOBAL TERRORISM'</b></span><br></p>\n",
    "LEVEL- INTERMEDIATE\n",
    "<br>\n",
    "<span style =\"font-size: 20px;\"><b>PROBLEM STATEMENT:</b></span>\n",
    "- Perform \"Exploratory Data Analysis\" on dataset \"Global Terrorism\"\n",
    "- As a security/defence analyst, try to find out the hot zones of terrorism.\n",
    "- What other security issues you can derive through this EDA?\n",
    "- Intermediate Level - Create storyboards, Screen Records along with your audio explaining the charts and interpretations. Use images and plots/charts."
   ]
  },
  {
   "cell_type": "markdown",
   "id": "e7dc43ba",
   "metadata": {},
   "source": [
    "# Import Libraries"
   ]
  },
  {
   "cell_type": "code",
   "execution_count": 5,
   "id": "fe847506",
   "metadata": {},
   "outputs": [],
   "source": [
    "import numpy as np\n",
    "import pandas as pd\n",
    "import seaborn as sns\n",
    "import matplotlib.pyplot as plt\n",
    "from scipy.optimize import curve_fit\n",
    "import plotly.express as px\n",
    "import plotly.graph_objects as go\n",
    "import warnings"
   ]
  },
  {
   "cell_type": "code",
   "execution_count": 6,
   "id": "487a22b0",
   "metadata": {},
   "outputs": [],
   "source": [
    "warnings.filterwarnings(\"ignore\")"
   ]
  },
  {
   "cell_type": "markdown",
   "id": "34586002",
   "metadata": {},
   "source": [
    "# Import CSV File"
   ]
  },
  {
   "cell_type": "code",
   "execution_count": 7,
   "id": "22b98a31",
   "metadata": {},
   "outputs": [],
   "source": [
    "csv_data_path = \"globalterrorism.csv\""
   ]
  },
  {
   "cell_type": "code",
   "execution_count": 8,
   "id": "7134029a",
   "metadata": {},
   "outputs": [
    {
     "data": {
      "text/html": [
       "<div>\n",
       "<style scoped>\n",
       "    .dataframe tbody tr th:only-of-type {\n",
       "        vertical-align: middle;\n",
       "    }\n",
       "\n",
       "    .dataframe tbody tr th {\n",
       "        vertical-align: top;\n",
       "    }\n",
       "\n",
       "    .dataframe thead th {\n",
       "        text-align: right;\n",
       "    }\n",
       "</style>\n",
       "<table border=\"1\" class=\"dataframe\">\n",
       "  <thead>\n",
       "    <tr style=\"text-align: right;\">\n",
       "      <th></th>\n",
       "      <th>eventid</th>\n",
       "      <th>iyear</th>\n",
       "      <th>imonth</th>\n",
       "      <th>iday</th>\n",
       "      <th>approxdate</th>\n",
       "      <th>extended</th>\n",
       "      <th>resolution</th>\n",
       "      <th>country</th>\n",
       "      <th>country_txt</th>\n",
       "      <th>region</th>\n",
       "      <th>...</th>\n",
       "      <th>addnotes</th>\n",
       "      <th>scite1</th>\n",
       "      <th>scite2</th>\n",
       "      <th>scite3</th>\n",
       "      <th>dbsource</th>\n",
       "      <th>INT_LOG</th>\n",
       "      <th>INT_IDEO</th>\n",
       "      <th>INT_MISC</th>\n",
       "      <th>INT_ANY</th>\n",
       "      <th>related</th>\n",
       "    </tr>\n",
       "  </thead>\n",
       "  <tbody>\n",
       "    <tr>\n",
       "      <th>0</th>\n",
       "      <td>197000000001</td>\n",
       "      <td>1970</td>\n",
       "      <td>7</td>\n",
       "      <td>2</td>\n",
       "      <td>NaN</td>\n",
       "      <td>0</td>\n",
       "      <td>NaN</td>\n",
       "      <td>58</td>\n",
       "      <td>Dominican Republic</td>\n",
       "      <td>2</td>\n",
       "      <td>...</td>\n",
       "      <td>NaN</td>\n",
       "      <td>NaN</td>\n",
       "      <td>NaN</td>\n",
       "      <td>NaN</td>\n",
       "      <td>PGIS</td>\n",
       "      <td>0</td>\n",
       "      <td>0</td>\n",
       "      <td>0</td>\n",
       "      <td>0</td>\n",
       "      <td>NaN</td>\n",
       "    </tr>\n",
       "    <tr>\n",
       "      <th>1</th>\n",
       "      <td>197000000002</td>\n",
       "      <td>1970</td>\n",
       "      <td>0</td>\n",
       "      <td>0</td>\n",
       "      <td>NaN</td>\n",
       "      <td>0</td>\n",
       "      <td>NaN</td>\n",
       "      <td>130</td>\n",
       "      <td>Mexico</td>\n",
       "      <td>1</td>\n",
       "      <td>...</td>\n",
       "      <td>NaN</td>\n",
       "      <td>NaN</td>\n",
       "      <td>NaN</td>\n",
       "      <td>NaN</td>\n",
       "      <td>PGIS</td>\n",
       "      <td>0</td>\n",
       "      <td>1</td>\n",
       "      <td>1</td>\n",
       "      <td>1</td>\n",
       "      <td>NaN</td>\n",
       "    </tr>\n",
       "    <tr>\n",
       "      <th>2</th>\n",
       "      <td>197001000001</td>\n",
       "      <td>1970</td>\n",
       "      <td>1</td>\n",
       "      <td>0</td>\n",
       "      <td>NaN</td>\n",
       "      <td>0</td>\n",
       "      <td>NaN</td>\n",
       "      <td>160</td>\n",
       "      <td>Philippines</td>\n",
       "      <td>5</td>\n",
       "      <td>...</td>\n",
       "      <td>NaN</td>\n",
       "      <td>NaN</td>\n",
       "      <td>NaN</td>\n",
       "      <td>NaN</td>\n",
       "      <td>PGIS</td>\n",
       "      <td>-9</td>\n",
       "      <td>-9</td>\n",
       "      <td>1</td>\n",
       "      <td>1</td>\n",
       "      <td>NaN</td>\n",
       "    </tr>\n",
       "    <tr>\n",
       "      <th>3</th>\n",
       "      <td>197001000002</td>\n",
       "      <td>1970</td>\n",
       "      <td>1</td>\n",
       "      <td>0</td>\n",
       "      <td>NaN</td>\n",
       "      <td>0</td>\n",
       "      <td>NaN</td>\n",
       "      <td>78</td>\n",
       "      <td>Greece</td>\n",
       "      <td>8</td>\n",
       "      <td>...</td>\n",
       "      <td>NaN</td>\n",
       "      <td>NaN</td>\n",
       "      <td>NaN</td>\n",
       "      <td>NaN</td>\n",
       "      <td>PGIS</td>\n",
       "      <td>-9</td>\n",
       "      <td>-9</td>\n",
       "      <td>1</td>\n",
       "      <td>1</td>\n",
       "      <td>NaN</td>\n",
       "    </tr>\n",
       "    <tr>\n",
       "      <th>4</th>\n",
       "      <td>197001000003</td>\n",
       "      <td>1970</td>\n",
       "      <td>1</td>\n",
       "      <td>0</td>\n",
       "      <td>NaN</td>\n",
       "      <td>0</td>\n",
       "      <td>NaN</td>\n",
       "      <td>101</td>\n",
       "      <td>Japan</td>\n",
       "      <td>4</td>\n",
       "      <td>...</td>\n",
       "      <td>NaN</td>\n",
       "      <td>NaN</td>\n",
       "      <td>NaN</td>\n",
       "      <td>NaN</td>\n",
       "      <td>PGIS</td>\n",
       "      <td>-9</td>\n",
       "      <td>-9</td>\n",
       "      <td>1</td>\n",
       "      <td>1</td>\n",
       "      <td>NaN</td>\n",
       "    </tr>\n",
       "    <tr>\n",
       "      <th>...</th>\n",
       "      <td>...</td>\n",
       "      <td>...</td>\n",
       "      <td>...</td>\n",
       "      <td>...</td>\n",
       "      <td>...</td>\n",
       "      <td>...</td>\n",
       "      <td>...</td>\n",
       "      <td>...</td>\n",
       "      <td>...</td>\n",
       "      <td>...</td>\n",
       "      <td>...</td>\n",
       "      <td>...</td>\n",
       "      <td>...</td>\n",
       "      <td>...</td>\n",
       "      <td>...</td>\n",
       "      <td>...</td>\n",
       "      <td>...</td>\n",
       "      <td>...</td>\n",
       "      <td>...</td>\n",
       "      <td>...</td>\n",
       "      <td>...</td>\n",
       "    </tr>\n",
       "    <tr>\n",
       "      <th>181686</th>\n",
       "      <td>201712310022</td>\n",
       "      <td>2017</td>\n",
       "      <td>12</td>\n",
       "      <td>31</td>\n",
       "      <td>NaN</td>\n",
       "      <td>0</td>\n",
       "      <td>NaN</td>\n",
       "      <td>182</td>\n",
       "      <td>Somalia</td>\n",
       "      <td>11</td>\n",
       "      <td>...</td>\n",
       "      <td>NaN</td>\n",
       "      <td>\"Somalia: Al-Shabaab Militants Attack Army Che...</td>\n",
       "      <td>\"Highlights: Somalia Daily Media Highlights 2 ...</td>\n",
       "      <td>\"Highlights: Somalia Daily Media Highlights 1 ...</td>\n",
       "      <td>START Primary Collection</td>\n",
       "      <td>0</td>\n",
       "      <td>0</td>\n",
       "      <td>0</td>\n",
       "      <td>0</td>\n",
       "      <td>NaN</td>\n",
       "    </tr>\n",
       "    <tr>\n",
       "      <th>181687</th>\n",
       "      <td>201712310029</td>\n",
       "      <td>2017</td>\n",
       "      <td>12</td>\n",
       "      <td>31</td>\n",
       "      <td>NaN</td>\n",
       "      <td>0</td>\n",
       "      <td>NaN</td>\n",
       "      <td>200</td>\n",
       "      <td>Syria</td>\n",
       "      <td>10</td>\n",
       "      <td>...</td>\n",
       "      <td>NaN</td>\n",
       "      <td>\"Putin's 'victory' in Syria has turned into a ...</td>\n",
       "      <td>\"Two Russian soldiers killed at Hmeymim base i...</td>\n",
       "      <td>\"Two Russian servicemen killed in Syria mortar...</td>\n",
       "      <td>START Primary Collection</td>\n",
       "      <td>-9</td>\n",
       "      <td>-9</td>\n",
       "      <td>1</td>\n",
       "      <td>1</td>\n",
       "      <td>NaN</td>\n",
       "    </tr>\n",
       "    <tr>\n",
       "      <th>181688</th>\n",
       "      <td>201712310030</td>\n",
       "      <td>2017</td>\n",
       "      <td>12</td>\n",
       "      <td>31</td>\n",
       "      <td>NaN</td>\n",
       "      <td>0</td>\n",
       "      <td>NaN</td>\n",
       "      <td>160</td>\n",
       "      <td>Philippines</td>\n",
       "      <td>5</td>\n",
       "      <td>...</td>\n",
       "      <td>NaN</td>\n",
       "      <td>\"Maguindanao clashes trap tribe members,\" Phil...</td>\n",
       "      <td>NaN</td>\n",
       "      <td>NaN</td>\n",
       "      <td>START Primary Collection</td>\n",
       "      <td>0</td>\n",
       "      <td>0</td>\n",
       "      <td>0</td>\n",
       "      <td>0</td>\n",
       "      <td>NaN</td>\n",
       "    </tr>\n",
       "    <tr>\n",
       "      <th>181689</th>\n",
       "      <td>201712310031</td>\n",
       "      <td>2017</td>\n",
       "      <td>12</td>\n",
       "      <td>31</td>\n",
       "      <td>NaN</td>\n",
       "      <td>0</td>\n",
       "      <td>NaN</td>\n",
       "      <td>92</td>\n",
       "      <td>India</td>\n",
       "      <td>6</td>\n",
       "      <td>...</td>\n",
       "      <td>NaN</td>\n",
       "      <td>\"Trader escapes grenade attack in Imphal,\" Bus...</td>\n",
       "      <td>NaN</td>\n",
       "      <td>NaN</td>\n",
       "      <td>START Primary Collection</td>\n",
       "      <td>-9</td>\n",
       "      <td>-9</td>\n",
       "      <td>0</td>\n",
       "      <td>-9</td>\n",
       "      <td>NaN</td>\n",
       "    </tr>\n",
       "    <tr>\n",
       "      <th>181690</th>\n",
       "      <td>201712310032</td>\n",
       "      <td>2017</td>\n",
       "      <td>12</td>\n",
       "      <td>31</td>\n",
       "      <td>NaN</td>\n",
       "      <td>0</td>\n",
       "      <td>NaN</td>\n",
       "      <td>160</td>\n",
       "      <td>Philippines</td>\n",
       "      <td>5</td>\n",
       "      <td>...</td>\n",
       "      <td>NaN</td>\n",
       "      <td>\"Security tightened in Cotabato following IED ...</td>\n",
       "      <td>\"Security tightened in Cotabato City,\" Manila ...</td>\n",
       "      <td>NaN</td>\n",
       "      <td>START Primary Collection</td>\n",
       "      <td>-9</td>\n",
       "      <td>-9</td>\n",
       "      <td>0</td>\n",
       "      <td>-9</td>\n",
       "      <td>NaN</td>\n",
       "    </tr>\n",
       "  </tbody>\n",
       "</table>\n",
       "<p>181691 rows × 135 columns</p>\n",
       "</div>"
      ],
      "text/plain": [
       "             eventid  iyear  imonth  iday approxdate  extended resolution  \\\n",
       "0       197000000001   1970       7     2        NaN         0        NaN   \n",
       "1       197000000002   1970       0     0        NaN         0        NaN   \n",
       "2       197001000001   1970       1     0        NaN         0        NaN   \n",
       "3       197001000002   1970       1     0        NaN         0        NaN   \n",
       "4       197001000003   1970       1     0        NaN         0        NaN   \n",
       "...              ...    ...     ...   ...        ...       ...        ...   \n",
       "181686  201712310022   2017      12    31        NaN         0        NaN   \n",
       "181687  201712310029   2017      12    31        NaN         0        NaN   \n",
       "181688  201712310030   2017      12    31        NaN         0        NaN   \n",
       "181689  201712310031   2017      12    31        NaN         0        NaN   \n",
       "181690  201712310032   2017      12    31        NaN         0        NaN   \n",
       "\n",
       "        country         country_txt  region  ... addnotes  \\\n",
       "0            58  Dominican Republic       2  ...      NaN   \n",
       "1           130              Mexico       1  ...      NaN   \n",
       "2           160         Philippines       5  ...      NaN   \n",
       "3            78              Greece       8  ...      NaN   \n",
       "4           101               Japan       4  ...      NaN   \n",
       "...         ...                 ...     ...  ...      ...   \n",
       "181686      182             Somalia      11  ...      NaN   \n",
       "181687      200               Syria      10  ...      NaN   \n",
       "181688      160         Philippines       5  ...      NaN   \n",
       "181689       92               India       6  ...      NaN   \n",
       "181690      160         Philippines       5  ...      NaN   \n",
       "\n",
       "                                                   scite1  \\\n",
       "0                                                     NaN   \n",
       "1                                                     NaN   \n",
       "2                                                     NaN   \n",
       "3                                                     NaN   \n",
       "4                                                     NaN   \n",
       "...                                                   ...   \n",
       "181686  \"Somalia: Al-Shabaab Militants Attack Army Che...   \n",
       "181687  \"Putin's 'victory' in Syria has turned into a ...   \n",
       "181688  \"Maguindanao clashes trap tribe members,\" Phil...   \n",
       "181689  \"Trader escapes grenade attack in Imphal,\" Bus...   \n",
       "181690  \"Security tightened in Cotabato following IED ...   \n",
       "\n",
       "                                                   scite2  \\\n",
       "0                                                     NaN   \n",
       "1                                                     NaN   \n",
       "2                                                     NaN   \n",
       "3                                                     NaN   \n",
       "4                                                     NaN   \n",
       "...                                                   ...   \n",
       "181686  \"Highlights: Somalia Daily Media Highlights 2 ...   \n",
       "181687  \"Two Russian soldiers killed at Hmeymim base i...   \n",
       "181688                                                NaN   \n",
       "181689                                                NaN   \n",
       "181690  \"Security tightened in Cotabato City,\" Manila ...   \n",
       "\n",
       "                                                   scite3  \\\n",
       "0                                                     NaN   \n",
       "1                                                     NaN   \n",
       "2                                                     NaN   \n",
       "3                                                     NaN   \n",
       "4                                                     NaN   \n",
       "...                                                   ...   \n",
       "181686  \"Highlights: Somalia Daily Media Highlights 1 ...   \n",
       "181687  \"Two Russian servicemen killed in Syria mortar...   \n",
       "181688                                                NaN   \n",
       "181689                                                NaN   \n",
       "181690                                                NaN   \n",
       "\n",
       "                        dbsource  INT_LOG  INT_IDEO INT_MISC INT_ANY  related  \n",
       "0                           PGIS        0         0        0       0      NaN  \n",
       "1                           PGIS        0         1        1       1      NaN  \n",
       "2                           PGIS       -9        -9        1       1      NaN  \n",
       "3                           PGIS       -9        -9        1       1      NaN  \n",
       "4                           PGIS       -9        -9        1       1      NaN  \n",
       "...                          ...      ...       ...      ...     ...      ...  \n",
       "181686  START Primary Collection        0         0        0       0      NaN  \n",
       "181687  START Primary Collection       -9        -9        1       1      NaN  \n",
       "181688  START Primary Collection        0         0        0       0      NaN  \n",
       "181689  START Primary Collection       -9        -9        0      -9      NaN  \n",
       "181690  START Primary Collection       -9        -9        0      -9      NaN  \n",
       "\n",
       "[181691 rows x 135 columns]"
      ]
     },
     "execution_count": 8,
     "metadata": {},
     "output_type": "execute_result"
    }
   ],
   "source": [
    "df = pd.read_csv(csv_data_path)\n",
    "df"
   ]
  },
  {
   "cell_type": "code",
   "execution_count": 9,
   "id": "150cb78e",
   "metadata": {},
   "outputs": [
    {
     "name": "stdout",
     "output_type": "stream",
     "text": [
      "There are 181691 rows and 135 columns in the dataset\n"
     ]
    }
   ],
   "source": [
    "print(\"There are {} rows and {} columns in the dataset\".format(df.shape[0],df.shape[1]))"
   ]
  },
  {
   "cell_type": "code",
   "execution_count": 10,
   "id": "0ce808a8",
   "metadata": {
    "scrolled": true
   },
   "outputs": [
    {
     "data": {
      "text/plain": [
       "Index(['eventid', 'iyear', 'imonth', 'iday', 'approxdate', 'extended',\n",
       "       'resolution', 'country', 'country_txt', 'region',\n",
       "       ...\n",
       "       'addnotes', 'scite1', 'scite2', 'scite3', 'dbsource', 'INT_LOG',\n",
       "       'INT_IDEO', 'INT_MISC', 'INT_ANY', 'related'],\n",
       "      dtype='object', length=135)"
      ]
     },
     "execution_count": 10,
     "metadata": {},
     "output_type": "execute_result"
    }
   ],
   "source": [
    "df.columns"
   ]
  },
  {
   "cell_type": "code",
   "execution_count": 11,
   "id": "5134cafc",
   "metadata": {},
   "outputs": [
    {
     "name": "stdout",
     "output_type": "stream",
     "text": [
      "There are total 135 columns in the data\n"
     ]
    }
   ],
   "source": [
    "No_of_cols=df.columns.nunique()\n",
    "print(\"There are total %d columns in the data\"%No_of_cols)"
   ]
  },
  {
   "cell_type": "markdown",
   "id": "eced7f52",
   "metadata": {},
   "source": [
    "# Cleaning of DataSet"
   ]
  },
  {
   "cell_type": "code",
   "execution_count": 12,
   "id": "f40951c7",
   "metadata": {},
   "outputs": [],
   "source": [
    "terrorism_df=df.rename(columns={'iyear':'Year','imonth':'Month','iday':'Day','country_txt':'Country','region_txt':'Region',\n",
    "                             'provstate':'State','city':'City','attacktype1_txt':'Attack_type','targtype1_txt':'Target_type',\n",
    "                             'targsubtype1_txt':'Target_subtype','gname':'Gang_name','weaptype1_txt':'Weapon_type'})"
   ]
  },
  {
   "cell_type": "code",
   "execution_count": 14,
   "id": "9128ecbe",
   "metadata": {},
   "outputs": [],
   "source": [
    "terrorism_df=terrorism_df[['Year','Month','Day','Country','Region','State','City','Attack_type','Target_type','Target_subtype','Gang_name','Weapon_type']]"
   ]
  },
  {
   "cell_type": "code",
   "execution_count": 15,
   "id": "a8014d1c",
   "metadata": {
    "scrolled": true
   },
   "outputs": [
    {
     "data": {
      "text/html": [
       "<div>\n",
       "<style scoped>\n",
       "    .dataframe tbody tr th:only-of-type {\n",
       "        vertical-align: middle;\n",
       "    }\n",
       "\n",
       "    .dataframe tbody tr th {\n",
       "        vertical-align: top;\n",
       "    }\n",
       "\n",
       "    .dataframe thead th {\n",
       "        text-align: right;\n",
       "    }\n",
       "</style>\n",
       "<table border=\"1\" class=\"dataframe\">\n",
       "  <thead>\n",
       "    <tr style=\"text-align: right;\">\n",
       "      <th></th>\n",
       "      <th>Year</th>\n",
       "      <th>Month</th>\n",
       "      <th>Day</th>\n",
       "      <th>Country</th>\n",
       "      <th>Region</th>\n",
       "      <th>State</th>\n",
       "      <th>City</th>\n",
       "      <th>Attack_type</th>\n",
       "      <th>Target_type</th>\n",
       "      <th>Target_subtype</th>\n",
       "      <th>Gang_name</th>\n",
       "      <th>Weapon_type</th>\n",
       "    </tr>\n",
       "  </thead>\n",
       "  <tbody>\n",
       "    <tr>\n",
       "      <th>0</th>\n",
       "      <td>1970</td>\n",
       "      <td>7</td>\n",
       "      <td>2</td>\n",
       "      <td>Dominican Republic</td>\n",
       "      <td>Central America &amp; Caribbean</td>\n",
       "      <td>NaN</td>\n",
       "      <td>Santo Domingo</td>\n",
       "      <td>Assassination</td>\n",
       "      <td>Private Citizens &amp; Property</td>\n",
       "      <td>Named Civilian</td>\n",
       "      <td>MANO-D</td>\n",
       "      <td>Unknown</td>\n",
       "    </tr>\n",
       "    <tr>\n",
       "      <th>1</th>\n",
       "      <td>1970</td>\n",
       "      <td>0</td>\n",
       "      <td>0</td>\n",
       "      <td>Mexico</td>\n",
       "      <td>North America</td>\n",
       "      <td>Federal</td>\n",
       "      <td>Mexico city</td>\n",
       "      <td>Hostage Taking (Kidnapping)</td>\n",
       "      <td>Government (Diplomatic)</td>\n",
       "      <td>Diplomatic Personnel (outside of embassy, cons...</td>\n",
       "      <td>23rd of September Communist League</td>\n",
       "      <td>Unknown</td>\n",
       "    </tr>\n",
       "    <tr>\n",
       "      <th>2</th>\n",
       "      <td>1970</td>\n",
       "      <td>1</td>\n",
       "      <td>0</td>\n",
       "      <td>Philippines</td>\n",
       "      <td>Southeast Asia</td>\n",
       "      <td>Tarlac</td>\n",
       "      <td>Unknown</td>\n",
       "      <td>Assassination</td>\n",
       "      <td>Journalists &amp; Media</td>\n",
       "      <td>Radio Journalist/Staff/Facility</td>\n",
       "      <td>Unknown</td>\n",
       "      <td>Unknown</td>\n",
       "    </tr>\n",
       "    <tr>\n",
       "      <th>3</th>\n",
       "      <td>1970</td>\n",
       "      <td>1</td>\n",
       "      <td>0</td>\n",
       "      <td>Greece</td>\n",
       "      <td>Western Europe</td>\n",
       "      <td>Attica</td>\n",
       "      <td>Athens</td>\n",
       "      <td>Bombing/Explosion</td>\n",
       "      <td>Government (Diplomatic)</td>\n",
       "      <td>Embassy/Consulate</td>\n",
       "      <td>Unknown</td>\n",
       "      <td>Explosives</td>\n",
       "    </tr>\n",
       "    <tr>\n",
       "      <th>4</th>\n",
       "      <td>1970</td>\n",
       "      <td>1</td>\n",
       "      <td>0</td>\n",
       "      <td>Japan</td>\n",
       "      <td>East Asia</td>\n",
       "      <td>Fukouka</td>\n",
       "      <td>Fukouka</td>\n",
       "      <td>Facility/Infrastructure Attack</td>\n",
       "      <td>Government (Diplomatic)</td>\n",
       "      <td>Embassy/Consulate</td>\n",
       "      <td>Unknown</td>\n",
       "      <td>Incendiary</td>\n",
       "    </tr>\n",
       "    <tr>\n",
       "      <th>...</th>\n",
       "      <td>...</td>\n",
       "      <td>...</td>\n",
       "      <td>...</td>\n",
       "      <td>...</td>\n",
       "      <td>...</td>\n",
       "      <td>...</td>\n",
       "      <td>...</td>\n",
       "      <td>...</td>\n",
       "      <td>...</td>\n",
       "      <td>...</td>\n",
       "      <td>...</td>\n",
       "      <td>...</td>\n",
       "    </tr>\n",
       "    <tr>\n",
       "      <th>181686</th>\n",
       "      <td>2017</td>\n",
       "      <td>12</td>\n",
       "      <td>31</td>\n",
       "      <td>Somalia</td>\n",
       "      <td>Sub-Saharan Africa</td>\n",
       "      <td>Middle Shebelle</td>\n",
       "      <td>Ceelka Geelow</td>\n",
       "      <td>Armed Assault</td>\n",
       "      <td>Military</td>\n",
       "      <td>Military Checkpoint</td>\n",
       "      <td>Al-Shabaab</td>\n",
       "      <td>Firearms</td>\n",
       "    </tr>\n",
       "    <tr>\n",
       "      <th>181687</th>\n",
       "      <td>2017</td>\n",
       "      <td>12</td>\n",
       "      <td>31</td>\n",
       "      <td>Syria</td>\n",
       "      <td>Middle East &amp; North Africa</td>\n",
       "      <td>Lattakia</td>\n",
       "      <td>Jableh</td>\n",
       "      <td>Bombing/Explosion</td>\n",
       "      <td>Military</td>\n",
       "      <td>Military Barracks/Base/Headquarters/Checkpost</td>\n",
       "      <td>Muslim extremists</td>\n",
       "      <td>Explosives</td>\n",
       "    </tr>\n",
       "    <tr>\n",
       "      <th>181688</th>\n",
       "      <td>2017</td>\n",
       "      <td>12</td>\n",
       "      <td>31</td>\n",
       "      <td>Philippines</td>\n",
       "      <td>Southeast Asia</td>\n",
       "      <td>Maguindanao</td>\n",
       "      <td>Kubentog</td>\n",
       "      <td>Facility/Infrastructure Attack</td>\n",
       "      <td>Private Citizens &amp; Property</td>\n",
       "      <td>House/Apartment/Residence</td>\n",
       "      <td>Bangsamoro Islamic Freedom Movement (BIFM)</td>\n",
       "      <td>Incendiary</td>\n",
       "    </tr>\n",
       "    <tr>\n",
       "      <th>181689</th>\n",
       "      <td>2017</td>\n",
       "      <td>12</td>\n",
       "      <td>31</td>\n",
       "      <td>India</td>\n",
       "      <td>South Asia</td>\n",
       "      <td>Manipur</td>\n",
       "      <td>Imphal</td>\n",
       "      <td>Bombing/Explosion</td>\n",
       "      <td>Government (General)</td>\n",
       "      <td>Government Building/Facility/Office</td>\n",
       "      <td>Unknown</td>\n",
       "      <td>Explosives</td>\n",
       "    </tr>\n",
       "    <tr>\n",
       "      <th>181690</th>\n",
       "      <td>2017</td>\n",
       "      <td>12</td>\n",
       "      <td>31</td>\n",
       "      <td>Philippines</td>\n",
       "      <td>Southeast Asia</td>\n",
       "      <td>Maguindanao</td>\n",
       "      <td>Cotabato City</td>\n",
       "      <td>Bombing/Explosion</td>\n",
       "      <td>Unknown</td>\n",
       "      <td>NaN</td>\n",
       "      <td>Unknown</td>\n",
       "      <td>Explosives</td>\n",
       "    </tr>\n",
       "  </tbody>\n",
       "</table>\n",
       "<p>181691 rows × 12 columns</p>\n",
       "</div>"
      ],
      "text/plain": [
       "        Year  Month  Day             Country                       Region  \\\n",
       "0       1970      7    2  Dominican Republic  Central America & Caribbean   \n",
       "1       1970      0    0              Mexico                North America   \n",
       "2       1970      1    0         Philippines               Southeast Asia   \n",
       "3       1970      1    0              Greece               Western Europe   \n",
       "4       1970      1    0               Japan                    East Asia   \n",
       "...      ...    ...  ...                 ...                          ...   \n",
       "181686  2017     12   31             Somalia           Sub-Saharan Africa   \n",
       "181687  2017     12   31               Syria   Middle East & North Africa   \n",
       "181688  2017     12   31         Philippines               Southeast Asia   \n",
       "181689  2017     12   31               India                   South Asia   \n",
       "181690  2017     12   31         Philippines               Southeast Asia   \n",
       "\n",
       "                  State           City                     Attack_type  \\\n",
       "0                   NaN  Santo Domingo                   Assassination   \n",
       "1               Federal    Mexico city     Hostage Taking (Kidnapping)   \n",
       "2                Tarlac        Unknown                   Assassination   \n",
       "3                Attica         Athens               Bombing/Explosion   \n",
       "4               Fukouka        Fukouka  Facility/Infrastructure Attack   \n",
       "...                 ...            ...                             ...   \n",
       "181686  Middle Shebelle  Ceelka Geelow                   Armed Assault   \n",
       "181687         Lattakia         Jableh               Bombing/Explosion   \n",
       "181688      Maguindanao       Kubentog  Facility/Infrastructure Attack   \n",
       "181689          Manipur         Imphal               Bombing/Explosion   \n",
       "181690      Maguindanao  Cotabato City               Bombing/Explosion   \n",
       "\n",
       "                        Target_type  \\\n",
       "0       Private Citizens & Property   \n",
       "1           Government (Diplomatic)   \n",
       "2               Journalists & Media   \n",
       "3           Government (Diplomatic)   \n",
       "4           Government (Diplomatic)   \n",
       "...                             ...   \n",
       "181686                     Military   \n",
       "181687                     Military   \n",
       "181688  Private Citizens & Property   \n",
       "181689         Government (General)   \n",
       "181690                      Unknown   \n",
       "\n",
       "                                           Target_subtype  \\\n",
       "0                                          Named Civilian   \n",
       "1       Diplomatic Personnel (outside of embassy, cons...   \n",
       "2                         Radio Journalist/Staff/Facility   \n",
       "3                                       Embassy/Consulate   \n",
       "4                                       Embassy/Consulate   \n",
       "...                                                   ...   \n",
       "181686                                Military Checkpoint   \n",
       "181687      Military Barracks/Base/Headquarters/Checkpost   \n",
       "181688                          House/Apartment/Residence   \n",
       "181689                Government Building/Facility/Office   \n",
       "181690                                                NaN   \n",
       "\n",
       "                                         Gang_name Weapon_type  \n",
       "0                                           MANO-D     Unknown  \n",
       "1               23rd of September Communist League     Unknown  \n",
       "2                                          Unknown     Unknown  \n",
       "3                                          Unknown  Explosives  \n",
       "4                                          Unknown  Incendiary  \n",
       "...                                            ...         ...  \n",
       "181686                                  Al-Shabaab    Firearms  \n",
       "181687                           Muslim extremists  Explosives  \n",
       "181688  Bangsamoro Islamic Freedom Movement (BIFM)  Incendiary  \n",
       "181689                                     Unknown  Explosives  \n",
       "181690                                     Unknown  Explosives  \n",
       "\n",
       "[181691 rows x 12 columns]"
      ]
     },
     "execution_count": 15,
     "metadata": {},
     "output_type": "execute_result"
    }
   ],
   "source": [
    "terrorism_df"
   ]
  },
  {
   "cell_type": "markdown",
   "id": "7aad44f2",
   "metadata": {},
   "source": [
    "# Filling Nan Values in the Dataset"
   ]
  },
  {
   "cell_type": "code",
   "execution_count": null,
   "id": "e0bc40de",
   "metadata": {},
   "outputs": [],
   "source": [
    "terrorism_df['Target_subtype'] = terrorism_df['Target_subtype'].fillna('others')"
   ]
  },
  {
   "cell_type": "code",
   "execution_count": 64,
   "id": "45a19e19",
   "metadata": {},
   "outputs": [],
   "source": [
    "terrorism_df['State']=terrorism_df['State'].fillna('Unknown')"
   ]
  },
  {
   "cell_type": "code",
   "execution_count": 65,
   "id": "2efa2650",
   "metadata": {},
   "outputs": [],
   "source": [
    "terrorism_df['City']=terrorism_df['City'].fillna('Unknown')"
   ]
  },
  {
   "cell_type": "code",
   "execution_count": 66,
   "id": "e0811b8f",
   "metadata": {},
   "outputs": [],
   "source": [
    "terrorism_df.replace( {\"Vehicle (not to include vehicle-borne explosives, i.e., car or truck bombs)\": \"Vehicle\"},inplace = True)"
   ]
  },
  {
   "cell_type": "code",
   "execution_count": 20,
   "id": "4c76aef1",
   "metadata": {},
   "outputs": [
    {
     "data": {
      "text/html": [
       "<div>\n",
       "<style scoped>\n",
       "    .dataframe tbody tr th:only-of-type {\n",
       "        vertical-align: middle;\n",
       "    }\n",
       "\n",
       "    .dataframe tbody tr th {\n",
       "        vertical-align: top;\n",
       "    }\n",
       "\n",
       "    .dataframe thead th {\n",
       "        text-align: right;\n",
       "    }\n",
       "</style>\n",
       "<table border=\"1\" class=\"dataframe\">\n",
       "  <thead>\n",
       "    <tr style=\"text-align: right;\">\n",
       "      <th></th>\n",
       "      <th>Year</th>\n",
       "      <th>Month</th>\n",
       "      <th>Day</th>\n",
       "      <th>Country</th>\n",
       "      <th>Region</th>\n",
       "      <th>State</th>\n",
       "      <th>City</th>\n",
       "      <th>Attack_type</th>\n",
       "      <th>Target_type</th>\n",
       "      <th>Target_subtype</th>\n",
       "      <th>Gang_name</th>\n",
       "      <th>Weapon_type</th>\n",
       "    </tr>\n",
       "  </thead>\n",
       "  <tbody>\n",
       "    <tr>\n",
       "      <th>0</th>\n",
       "      <td>1970</td>\n",
       "      <td>7</td>\n",
       "      <td>2</td>\n",
       "      <td>Dominican Republic</td>\n",
       "      <td>Central America &amp; Caribbean</td>\n",
       "      <td>Unknown</td>\n",
       "      <td>Santo Domingo</td>\n",
       "      <td>Assassination</td>\n",
       "      <td>Private Citizens &amp; Property</td>\n",
       "      <td>Named Civilian</td>\n",
       "      <td>MANO-D</td>\n",
       "      <td>Unknown</td>\n",
       "    </tr>\n",
       "    <tr>\n",
       "      <th>1</th>\n",
       "      <td>1970</td>\n",
       "      <td>0</td>\n",
       "      <td>0</td>\n",
       "      <td>Mexico</td>\n",
       "      <td>North America</td>\n",
       "      <td>Federal</td>\n",
       "      <td>Mexico city</td>\n",
       "      <td>Hostage Taking (Kidnapping)</td>\n",
       "      <td>Government (Diplomatic)</td>\n",
       "      <td>Diplomatic Personnel (outside of embassy, cons...</td>\n",
       "      <td>23rd of September Communist League</td>\n",
       "      <td>Unknown</td>\n",
       "    </tr>\n",
       "    <tr>\n",
       "      <th>2</th>\n",
       "      <td>1970</td>\n",
       "      <td>1</td>\n",
       "      <td>0</td>\n",
       "      <td>Philippines</td>\n",
       "      <td>Southeast Asia</td>\n",
       "      <td>Tarlac</td>\n",
       "      <td>Unknown</td>\n",
       "      <td>Assassination</td>\n",
       "      <td>Journalists &amp; Media</td>\n",
       "      <td>Radio Journalist/Staff/Facility</td>\n",
       "      <td>Unknown</td>\n",
       "      <td>Unknown</td>\n",
       "    </tr>\n",
       "    <tr>\n",
       "      <th>3</th>\n",
       "      <td>1970</td>\n",
       "      <td>1</td>\n",
       "      <td>0</td>\n",
       "      <td>Greece</td>\n",
       "      <td>Western Europe</td>\n",
       "      <td>Attica</td>\n",
       "      <td>Athens</td>\n",
       "      <td>Bombing/Explosion</td>\n",
       "      <td>Government (Diplomatic)</td>\n",
       "      <td>Embassy/Consulate</td>\n",
       "      <td>Unknown</td>\n",
       "      <td>Explosives</td>\n",
       "    </tr>\n",
       "    <tr>\n",
       "      <th>4</th>\n",
       "      <td>1970</td>\n",
       "      <td>1</td>\n",
       "      <td>0</td>\n",
       "      <td>Japan</td>\n",
       "      <td>East Asia</td>\n",
       "      <td>Fukouka</td>\n",
       "      <td>Fukouka</td>\n",
       "      <td>Facility/Infrastructure Attack</td>\n",
       "      <td>Government (Diplomatic)</td>\n",
       "      <td>Embassy/Consulate</td>\n",
       "      <td>Unknown</td>\n",
       "      <td>Incendiary</td>\n",
       "    </tr>\n",
       "    <tr>\n",
       "      <th>...</th>\n",
       "      <td>...</td>\n",
       "      <td>...</td>\n",
       "      <td>...</td>\n",
       "      <td>...</td>\n",
       "      <td>...</td>\n",
       "      <td>...</td>\n",
       "      <td>...</td>\n",
       "      <td>...</td>\n",
       "      <td>...</td>\n",
       "      <td>...</td>\n",
       "      <td>...</td>\n",
       "      <td>...</td>\n",
       "    </tr>\n",
       "    <tr>\n",
       "      <th>181686</th>\n",
       "      <td>2017</td>\n",
       "      <td>12</td>\n",
       "      <td>31</td>\n",
       "      <td>Somalia</td>\n",
       "      <td>Sub-Saharan Africa</td>\n",
       "      <td>Middle Shebelle</td>\n",
       "      <td>Ceelka Geelow</td>\n",
       "      <td>Armed Assault</td>\n",
       "      <td>Military</td>\n",
       "      <td>Military Checkpoint</td>\n",
       "      <td>Al-Shabaab</td>\n",
       "      <td>Firearms</td>\n",
       "    </tr>\n",
       "    <tr>\n",
       "      <th>181687</th>\n",
       "      <td>2017</td>\n",
       "      <td>12</td>\n",
       "      <td>31</td>\n",
       "      <td>Syria</td>\n",
       "      <td>Middle East &amp; North Africa</td>\n",
       "      <td>Lattakia</td>\n",
       "      <td>Jableh</td>\n",
       "      <td>Bombing/Explosion</td>\n",
       "      <td>Military</td>\n",
       "      <td>Military Barracks/Base/Headquarters/Checkpost</td>\n",
       "      <td>Muslim extremists</td>\n",
       "      <td>Explosives</td>\n",
       "    </tr>\n",
       "    <tr>\n",
       "      <th>181688</th>\n",
       "      <td>2017</td>\n",
       "      <td>12</td>\n",
       "      <td>31</td>\n",
       "      <td>Philippines</td>\n",
       "      <td>Southeast Asia</td>\n",
       "      <td>Maguindanao</td>\n",
       "      <td>Kubentog</td>\n",
       "      <td>Facility/Infrastructure Attack</td>\n",
       "      <td>Private Citizens &amp; Property</td>\n",
       "      <td>House/Apartment/Residence</td>\n",
       "      <td>Bangsamoro Islamic Freedom Movement (BIFM)</td>\n",
       "      <td>Incendiary</td>\n",
       "    </tr>\n",
       "    <tr>\n",
       "      <th>181689</th>\n",
       "      <td>2017</td>\n",
       "      <td>12</td>\n",
       "      <td>31</td>\n",
       "      <td>India</td>\n",
       "      <td>South Asia</td>\n",
       "      <td>Manipur</td>\n",
       "      <td>Imphal</td>\n",
       "      <td>Bombing/Explosion</td>\n",
       "      <td>Government (General)</td>\n",
       "      <td>Government Building/Facility/Office</td>\n",
       "      <td>Unknown</td>\n",
       "      <td>Explosives</td>\n",
       "    </tr>\n",
       "    <tr>\n",
       "      <th>181690</th>\n",
       "      <td>2017</td>\n",
       "      <td>12</td>\n",
       "      <td>31</td>\n",
       "      <td>Philippines</td>\n",
       "      <td>Southeast Asia</td>\n",
       "      <td>Maguindanao</td>\n",
       "      <td>Cotabato City</td>\n",
       "      <td>Bombing/Explosion</td>\n",
       "      <td>Unknown</td>\n",
       "      <td>others</td>\n",
       "      <td>Unknown</td>\n",
       "      <td>Explosives</td>\n",
       "    </tr>\n",
       "  </tbody>\n",
       "</table>\n",
       "<p>181691 rows × 12 columns</p>\n",
       "</div>"
      ],
      "text/plain": [
       "        Year  Month  Day             Country                       Region  \\\n",
       "0       1970      7    2  Dominican Republic  Central America & Caribbean   \n",
       "1       1970      0    0              Mexico                North America   \n",
       "2       1970      1    0         Philippines               Southeast Asia   \n",
       "3       1970      1    0              Greece               Western Europe   \n",
       "4       1970      1    0               Japan                    East Asia   \n",
       "...      ...    ...  ...                 ...                          ...   \n",
       "181686  2017     12   31             Somalia           Sub-Saharan Africa   \n",
       "181687  2017     12   31               Syria   Middle East & North Africa   \n",
       "181688  2017     12   31         Philippines               Southeast Asia   \n",
       "181689  2017     12   31               India                   South Asia   \n",
       "181690  2017     12   31         Philippines               Southeast Asia   \n",
       "\n",
       "                  State           City                     Attack_type  \\\n",
       "0               Unknown  Santo Domingo                   Assassination   \n",
       "1               Federal    Mexico city     Hostage Taking (Kidnapping)   \n",
       "2                Tarlac        Unknown                   Assassination   \n",
       "3                Attica         Athens               Bombing/Explosion   \n",
       "4               Fukouka        Fukouka  Facility/Infrastructure Attack   \n",
       "...                 ...            ...                             ...   \n",
       "181686  Middle Shebelle  Ceelka Geelow                   Armed Assault   \n",
       "181687         Lattakia         Jableh               Bombing/Explosion   \n",
       "181688      Maguindanao       Kubentog  Facility/Infrastructure Attack   \n",
       "181689          Manipur         Imphal               Bombing/Explosion   \n",
       "181690      Maguindanao  Cotabato City               Bombing/Explosion   \n",
       "\n",
       "                        Target_type  \\\n",
       "0       Private Citizens & Property   \n",
       "1           Government (Diplomatic)   \n",
       "2               Journalists & Media   \n",
       "3           Government (Diplomatic)   \n",
       "4           Government (Diplomatic)   \n",
       "...                             ...   \n",
       "181686                     Military   \n",
       "181687                     Military   \n",
       "181688  Private Citizens & Property   \n",
       "181689         Government (General)   \n",
       "181690                      Unknown   \n",
       "\n",
       "                                           Target_subtype  \\\n",
       "0                                          Named Civilian   \n",
       "1       Diplomatic Personnel (outside of embassy, cons...   \n",
       "2                         Radio Journalist/Staff/Facility   \n",
       "3                                       Embassy/Consulate   \n",
       "4                                       Embassy/Consulate   \n",
       "...                                                   ...   \n",
       "181686                                Military Checkpoint   \n",
       "181687      Military Barracks/Base/Headquarters/Checkpost   \n",
       "181688                          House/Apartment/Residence   \n",
       "181689                Government Building/Facility/Office   \n",
       "181690                                             others   \n",
       "\n",
       "                                         Gang_name Weapon_type  \n",
       "0                                           MANO-D     Unknown  \n",
       "1               23rd of September Communist League     Unknown  \n",
       "2                                          Unknown     Unknown  \n",
       "3                                          Unknown  Explosives  \n",
       "4                                          Unknown  Incendiary  \n",
       "...                                            ...         ...  \n",
       "181686                                  Al-Shabaab    Firearms  \n",
       "181687                           Muslim extremists  Explosives  \n",
       "181688  Bangsamoro Islamic Freedom Movement (BIFM)  Incendiary  \n",
       "181689                                     Unknown  Explosives  \n",
       "181690                                     Unknown  Explosives  \n",
       "\n",
       "[181691 rows x 12 columns]"
      ]
     },
     "execution_count": 20,
     "metadata": {},
     "output_type": "execute_result"
    }
   ],
   "source": [
    "terrorism_df"
   ]
  },
  {
   "cell_type": "code",
   "execution_count": 21,
   "id": "6e9e0976",
   "metadata": {},
   "outputs": [
    {
     "data": {
      "text/plain": [
       "(181691, 12)"
      ]
     },
     "execution_count": 21,
     "metadata": {},
     "output_type": "execute_result"
    }
   ],
   "source": [
    "terrorism_df.shape"
   ]
  },
  {
   "cell_type": "code",
   "execution_count": 22,
   "id": "463b60e4",
   "metadata": {},
   "outputs": [
    {
     "data": {
      "text/plain": [
       "Year              0\n",
       "Month             0\n",
       "Day               0\n",
       "Country           0\n",
       "Region            0\n",
       "State             0\n",
       "City              0\n",
       "Attack_type       0\n",
       "Target_type       0\n",
       "Target_subtype    0\n",
       "Gang_name         0\n",
       "Weapon_type       0\n",
       "dtype: int64"
      ]
     },
     "execution_count": 22,
     "metadata": {},
     "output_type": "execute_result"
    }
   ],
   "source": [
    "terrorism_df.isnull().sum()"
   ]
  },
  {
   "cell_type": "code",
   "execution_count": 23,
   "id": "22e3b0c9",
   "metadata": {},
   "outputs": [
    {
     "data": {
      "text/html": [
       "<div>\n",
       "<style scoped>\n",
       "    .dataframe tbody tr th:only-of-type {\n",
       "        vertical-align: middle;\n",
       "    }\n",
       "\n",
       "    .dataframe tbody tr th {\n",
       "        vertical-align: top;\n",
       "    }\n",
       "\n",
       "    .dataframe thead th {\n",
       "        text-align: right;\n",
       "    }\n",
       "</style>\n",
       "<table border=\"1\" class=\"dataframe\">\n",
       "  <thead>\n",
       "    <tr style=\"text-align: right;\">\n",
       "      <th></th>\n",
       "      <th>Year</th>\n",
       "      <th>Month</th>\n",
       "      <th>Day</th>\n",
       "      <th>Country</th>\n",
       "      <th>Region</th>\n",
       "      <th>State</th>\n",
       "      <th>City</th>\n",
       "      <th>Attack_type</th>\n",
       "      <th>Target_type</th>\n",
       "      <th>Target_subtype</th>\n",
       "      <th>Gang_name</th>\n",
       "      <th>Weapon_type</th>\n",
       "    </tr>\n",
       "  </thead>\n",
       "  <tbody>\n",
       "    <tr>\n",
       "      <th>0</th>\n",
       "      <td>1970</td>\n",
       "      <td>7</td>\n",
       "      <td>2</td>\n",
       "      <td>Dominican Republic</td>\n",
       "      <td>Central America &amp; Caribbean</td>\n",
       "      <td>Unknown</td>\n",
       "      <td>Santo Domingo</td>\n",
       "      <td>Assassination</td>\n",
       "      <td>Private Citizens &amp; Property</td>\n",
       "      <td>Named Civilian</td>\n",
       "      <td>MANO-D</td>\n",
       "      <td>Unknown</td>\n",
       "    </tr>\n",
       "    <tr>\n",
       "      <th>1</th>\n",
       "      <td>1970</td>\n",
       "      <td>0</td>\n",
       "      <td>0</td>\n",
       "      <td>Mexico</td>\n",
       "      <td>North America</td>\n",
       "      <td>Federal</td>\n",
       "      <td>Mexico city</td>\n",
       "      <td>Hostage Taking (Kidnapping)</td>\n",
       "      <td>Government (Diplomatic)</td>\n",
       "      <td>Diplomatic Personnel (outside of embassy, cons...</td>\n",
       "      <td>23rd of September Communist League</td>\n",
       "      <td>Unknown</td>\n",
       "    </tr>\n",
       "    <tr>\n",
       "      <th>2</th>\n",
       "      <td>1970</td>\n",
       "      <td>1</td>\n",
       "      <td>0</td>\n",
       "      <td>Philippines</td>\n",
       "      <td>Southeast Asia</td>\n",
       "      <td>Tarlac</td>\n",
       "      <td>Unknown</td>\n",
       "      <td>Assassination</td>\n",
       "      <td>Journalists &amp; Media</td>\n",
       "      <td>Radio Journalist/Staff/Facility</td>\n",
       "      <td>Unknown</td>\n",
       "      <td>Unknown</td>\n",
       "    </tr>\n",
       "    <tr>\n",
       "      <th>3</th>\n",
       "      <td>1970</td>\n",
       "      <td>1</td>\n",
       "      <td>0</td>\n",
       "      <td>Greece</td>\n",
       "      <td>Western Europe</td>\n",
       "      <td>Attica</td>\n",
       "      <td>Athens</td>\n",
       "      <td>Bombing/Explosion</td>\n",
       "      <td>Government (Diplomatic)</td>\n",
       "      <td>Embassy/Consulate</td>\n",
       "      <td>Unknown</td>\n",
       "      <td>Explosives</td>\n",
       "    </tr>\n",
       "    <tr>\n",
       "      <th>4</th>\n",
       "      <td>1970</td>\n",
       "      <td>1</td>\n",
       "      <td>0</td>\n",
       "      <td>Japan</td>\n",
       "      <td>East Asia</td>\n",
       "      <td>Fukouka</td>\n",
       "      <td>Fukouka</td>\n",
       "      <td>Facility/Infrastructure Attack</td>\n",
       "      <td>Government (Diplomatic)</td>\n",
       "      <td>Embassy/Consulate</td>\n",
       "      <td>Unknown</td>\n",
       "      <td>Incendiary</td>\n",
       "    </tr>\n",
       "    <tr>\n",
       "      <th>5</th>\n",
       "      <td>1970</td>\n",
       "      <td>1</td>\n",
       "      <td>1</td>\n",
       "      <td>United States</td>\n",
       "      <td>North America</td>\n",
       "      <td>Illinois</td>\n",
       "      <td>Cairo</td>\n",
       "      <td>Armed Assault</td>\n",
       "      <td>Police</td>\n",
       "      <td>Police Building (headquarters, station, school)</td>\n",
       "      <td>Black Nationalists</td>\n",
       "      <td>Firearms</td>\n",
       "    </tr>\n",
       "    <tr>\n",
       "      <th>6</th>\n",
       "      <td>1970</td>\n",
       "      <td>1</td>\n",
       "      <td>2</td>\n",
       "      <td>Uruguay</td>\n",
       "      <td>South America</td>\n",
       "      <td>Montevideo</td>\n",
       "      <td>Montevideo</td>\n",
       "      <td>Assassination</td>\n",
       "      <td>Police</td>\n",
       "      <td>Police Security Forces/Officers</td>\n",
       "      <td>Tupamaros (Uruguay)</td>\n",
       "      <td>Firearms</td>\n",
       "    </tr>\n",
       "    <tr>\n",
       "      <th>7</th>\n",
       "      <td>1970</td>\n",
       "      <td>1</td>\n",
       "      <td>2</td>\n",
       "      <td>United States</td>\n",
       "      <td>North America</td>\n",
       "      <td>California</td>\n",
       "      <td>Oakland</td>\n",
       "      <td>Bombing/Explosion</td>\n",
       "      <td>Utilities</td>\n",
       "      <td>Electricity</td>\n",
       "      <td>Unknown</td>\n",
       "      <td>Explosives</td>\n",
       "    </tr>\n",
       "    <tr>\n",
       "      <th>8</th>\n",
       "      <td>1970</td>\n",
       "      <td>1</td>\n",
       "      <td>2</td>\n",
       "      <td>United States</td>\n",
       "      <td>North America</td>\n",
       "      <td>Wisconsin</td>\n",
       "      <td>Madison</td>\n",
       "      <td>Facility/Infrastructure Attack</td>\n",
       "      <td>Military</td>\n",
       "      <td>Military Recruiting Station/Academy</td>\n",
       "      <td>New Year's Gang</td>\n",
       "      <td>Incendiary</td>\n",
       "    </tr>\n",
       "    <tr>\n",
       "      <th>9</th>\n",
       "      <td>1970</td>\n",
       "      <td>1</td>\n",
       "      <td>3</td>\n",
       "      <td>United States</td>\n",
       "      <td>North America</td>\n",
       "      <td>Wisconsin</td>\n",
       "      <td>Madison</td>\n",
       "      <td>Facility/Infrastructure Attack</td>\n",
       "      <td>Government (General)</td>\n",
       "      <td>Government Building/Facility/Office</td>\n",
       "      <td>New Year's Gang</td>\n",
       "      <td>Incendiary</td>\n",
       "    </tr>\n",
       "  </tbody>\n",
       "</table>\n",
       "</div>"
      ],
      "text/plain": [
       "   Year  Month  Day             Country                       Region  \\\n",
       "0  1970      7    2  Dominican Republic  Central America & Caribbean   \n",
       "1  1970      0    0              Mexico                North America   \n",
       "2  1970      1    0         Philippines               Southeast Asia   \n",
       "3  1970      1    0              Greece               Western Europe   \n",
       "4  1970      1    0               Japan                    East Asia   \n",
       "5  1970      1    1       United States                North America   \n",
       "6  1970      1    2             Uruguay                South America   \n",
       "7  1970      1    2       United States                North America   \n",
       "8  1970      1    2       United States                North America   \n",
       "9  1970      1    3       United States                North America   \n",
       "\n",
       "        State           City                     Attack_type  \\\n",
       "0     Unknown  Santo Domingo                   Assassination   \n",
       "1     Federal    Mexico city     Hostage Taking (Kidnapping)   \n",
       "2      Tarlac        Unknown                   Assassination   \n",
       "3      Attica         Athens               Bombing/Explosion   \n",
       "4     Fukouka        Fukouka  Facility/Infrastructure Attack   \n",
       "5    Illinois          Cairo                   Armed Assault   \n",
       "6  Montevideo     Montevideo                   Assassination   \n",
       "7  California        Oakland               Bombing/Explosion   \n",
       "8   Wisconsin        Madison  Facility/Infrastructure Attack   \n",
       "9   Wisconsin        Madison  Facility/Infrastructure Attack   \n",
       "\n",
       "                   Target_type  \\\n",
       "0  Private Citizens & Property   \n",
       "1      Government (Diplomatic)   \n",
       "2          Journalists & Media   \n",
       "3      Government (Diplomatic)   \n",
       "4      Government (Diplomatic)   \n",
       "5                       Police   \n",
       "6                       Police   \n",
       "7                    Utilities   \n",
       "8                     Military   \n",
       "9         Government (General)   \n",
       "\n",
       "                                      Target_subtype  \\\n",
       "0                                     Named Civilian   \n",
       "1  Diplomatic Personnel (outside of embassy, cons...   \n",
       "2                    Radio Journalist/Staff/Facility   \n",
       "3                                  Embassy/Consulate   \n",
       "4                                  Embassy/Consulate   \n",
       "5    Police Building (headquarters, station, school)   \n",
       "6                    Police Security Forces/Officers   \n",
       "7                                        Electricity   \n",
       "8                Military Recruiting Station/Academy   \n",
       "9                Government Building/Facility/Office   \n",
       "\n",
       "                            Gang_name Weapon_type  \n",
       "0                              MANO-D     Unknown  \n",
       "1  23rd of September Communist League     Unknown  \n",
       "2                             Unknown     Unknown  \n",
       "3                             Unknown  Explosives  \n",
       "4                             Unknown  Incendiary  \n",
       "5                  Black Nationalists    Firearms  \n",
       "6                 Tupamaros (Uruguay)    Firearms  \n",
       "7                             Unknown  Explosives  \n",
       "8                     New Year's Gang  Incendiary  \n",
       "9                     New Year's Gang  Incendiary  "
      ]
     },
     "execution_count": 23,
     "metadata": {},
     "output_type": "execute_result"
    }
   ],
   "source": [
    "terrorism_df.head(10)"
   ]
  },
  {
   "cell_type": "markdown",
   "id": "af2289ed",
   "metadata": {},
   "source": [
    "# Analysing the dataset"
   ]
  },
  {
   "cell_type": "code",
   "execution_count": 24,
   "id": "b622364f",
   "metadata": {},
   "outputs": [
    {
     "data": {
      "text/plain": [
       "Index(['Year', 'Month', 'Day', 'Country', 'Region', 'State', 'City',\n",
       "       'Attack_type', 'Target_type', 'Target_subtype', 'Gang_name',\n",
       "       'Weapon_type'],\n",
       "      dtype='object')"
      ]
     },
     "execution_count": 24,
     "metadata": {},
     "output_type": "execute_result"
    }
   ],
   "source": [
    "terrorism_df.columns.unique()"
   ]
  },
  {
   "cell_type": "code",
   "execution_count": 25,
   "id": "a599ed9a",
   "metadata": {},
   "outputs": [
    {
     "data": {
      "text/plain": [
       "12"
      ]
     },
     "execution_count": 25,
     "metadata": {},
     "output_type": "execute_result"
    }
   ],
   "source": [
    "terrorism_df.columns.nunique()"
   ]
  },
  {
   "cell_type": "code",
   "execution_count": 26,
   "id": "050f521a",
   "metadata": {},
   "outputs": [
    {
     "name": "stdout",
     "output_type": "stream",
     "text": [
      "Total 205 countries were noted in the data\n"
     ]
    }
   ],
   "source": [
    "Total_countries=terrorism_df['Country'].nunique()\n",
    "print(\"Total %d countries were noted in the data\"%Total_countries)"
   ]
  },
  {
   "cell_type": "code",
   "execution_count": 27,
   "id": "76d5c397",
   "metadata": {},
   "outputs": [
    {
     "name": "stdout",
     "output_type": "stream",
     "text": [
      "['Central America & Caribbean' 'North America' 'Southeast Asia'\n",
      " 'Western Europe' 'East Asia' 'South America' 'Eastern Europe'\n",
      " 'Sub-Saharan Africa' 'Middle East & North Africa' 'Australasia & Oceania'\n",
      " 'South Asia' 'Central Asia']\n"
     ]
    }
   ],
   "source": [
    "print(terrorism_df['Region'].unique())"
   ]
  },
  {
   "cell_type": "code",
   "execution_count": 28,
   "id": "081761e4",
   "metadata": {
    "scrolled": true
   },
   "outputs": [
    {
     "name": "stdout",
     "output_type": "stream",
     "text": [
      "12\n"
     ]
    }
   ],
   "source": [
    "print(terrorism_df['Region'].nunique())"
   ]
  },
  {
   "cell_type": "code",
   "execution_count": 90,
   "id": "72df6729",
   "metadata": {},
   "outputs": [
    {
     "data": {
      "text/html": [
       "<div>\n",
       "<style scoped>\n",
       "    .dataframe tbody tr th:only-of-type {\n",
       "        vertical-align: middle;\n",
       "    }\n",
       "\n",
       "    .dataframe tbody tr th {\n",
       "        vertical-align: top;\n",
       "    }\n",
       "\n",
       "    .dataframe thead th {\n",
       "        text-align: right;\n",
       "    }\n",
       "</style>\n",
       "<table border=\"1\" class=\"dataframe\">\n",
       "  <thead>\n",
       "    <tr style=\"text-align: right;\">\n",
       "      <th></th>\n",
       "      <th>Country</th>\n",
       "      <th>Attack_type</th>\n",
       "    </tr>\n",
       "  </thead>\n",
       "  <tbody>\n",
       "    <tr>\n",
       "      <th>0</th>\n",
       "      <td>Dominican Republic</td>\n",
       "      <td>Assassination</td>\n",
       "    </tr>\n",
       "    <tr>\n",
       "      <th>1</th>\n",
       "      <td>Mexico</td>\n",
       "      <td>Hostage Taking (Kidnapping)</td>\n",
       "    </tr>\n",
       "    <tr>\n",
       "      <th>2</th>\n",
       "      <td>Philippines</td>\n",
       "      <td>Assassination</td>\n",
       "    </tr>\n",
       "    <tr>\n",
       "      <th>3</th>\n",
       "      <td>Greece</td>\n",
       "      <td>Bombing/Explosion</td>\n",
       "    </tr>\n",
       "    <tr>\n",
       "      <th>4</th>\n",
       "      <td>Japan</td>\n",
       "      <td>Facility/Infrastructure Attack</td>\n",
       "    </tr>\n",
       "    <tr>\n",
       "      <th>5</th>\n",
       "      <td>United States</td>\n",
       "      <td>Armed Assault</td>\n",
       "    </tr>\n",
       "    <tr>\n",
       "      <th>6</th>\n",
       "      <td>Uruguay</td>\n",
       "      <td>Assassination</td>\n",
       "    </tr>\n",
       "    <tr>\n",
       "      <th>7</th>\n",
       "      <td>United States</td>\n",
       "      <td>Bombing/Explosion</td>\n",
       "    </tr>\n",
       "    <tr>\n",
       "      <th>8</th>\n",
       "      <td>United States</td>\n",
       "      <td>Facility/Infrastructure Attack</td>\n",
       "    </tr>\n",
       "    <tr>\n",
       "      <th>9</th>\n",
       "      <td>United States</td>\n",
       "      <td>Facility/Infrastructure Attack</td>\n",
       "    </tr>\n",
       "    <tr>\n",
       "      <th>10</th>\n",
       "      <td>United States</td>\n",
       "      <td>Bombing/Explosion</td>\n",
       "    </tr>\n",
       "    <tr>\n",
       "      <th>11</th>\n",
       "      <td>United States</td>\n",
       "      <td>Facility/Infrastructure Attack</td>\n",
       "    </tr>\n",
       "    <tr>\n",
       "      <th>12</th>\n",
       "      <td>Italy</td>\n",
       "      <td>Hijacking</td>\n",
       "    </tr>\n",
       "    <tr>\n",
       "      <th>13</th>\n",
       "      <td>United States</td>\n",
       "      <td>Facility/Infrastructure Attack</td>\n",
       "    </tr>\n",
       "    <tr>\n",
       "      <th>14</th>\n",
       "      <td>United States</td>\n",
       "      <td>Facility/Infrastructure Attack</td>\n",
       "    </tr>\n",
       "    <tr>\n",
       "      <th>15</th>\n",
       "      <td>East Germany (GDR)</td>\n",
       "      <td>Bombing/Explosion</td>\n",
       "    </tr>\n",
       "    <tr>\n",
       "      <th>16</th>\n",
       "      <td>Ethiopia</td>\n",
       "      <td>Unknown</td>\n",
       "    </tr>\n",
       "    <tr>\n",
       "      <th>17</th>\n",
       "      <td>United States</td>\n",
       "      <td>Bombing/Explosion</td>\n",
       "    </tr>\n",
       "    <tr>\n",
       "      <th>18</th>\n",
       "      <td>United States</td>\n",
       "      <td>Bombing/Explosion</td>\n",
       "    </tr>\n",
       "    <tr>\n",
       "      <th>19</th>\n",
       "      <td>United States</td>\n",
       "      <td>Facility/Infrastructure Attack</td>\n",
       "    </tr>\n",
       "    <tr>\n",
       "      <th>20</th>\n",
       "      <td>United States</td>\n",
       "      <td>Facility/Infrastructure Attack</td>\n",
       "    </tr>\n",
       "    <tr>\n",
       "      <th>21</th>\n",
       "      <td>Uruguay</td>\n",
       "      <td>Armed Assault</td>\n",
       "    </tr>\n",
       "    <tr>\n",
       "      <th>22</th>\n",
       "      <td>United States</td>\n",
       "      <td>Bombing/Explosion</td>\n",
       "    </tr>\n",
       "    <tr>\n",
       "      <th>23</th>\n",
       "      <td>United States</td>\n",
       "      <td>Bombing/Explosion</td>\n",
       "    </tr>\n",
       "    <tr>\n",
       "      <th>24</th>\n",
       "      <td>United States</td>\n",
       "      <td>Facility/Infrastructure Attack</td>\n",
       "    </tr>\n",
       "    <tr>\n",
       "      <th>25</th>\n",
       "      <td>Guatemala</td>\n",
       "      <td>Assassination</td>\n",
       "    </tr>\n",
       "    <tr>\n",
       "      <th>26</th>\n",
       "      <td>Philippines</td>\n",
       "      <td>Bombing/Explosion</td>\n",
       "    </tr>\n",
       "    <tr>\n",
       "      <th>27</th>\n",
       "      <td>Venezuela</td>\n",
       "      <td>Hostage Taking (Kidnapping)</td>\n",
       "    </tr>\n",
       "    <tr>\n",
       "      <th>28</th>\n",
       "      <td>United States</td>\n",
       "      <td>Bombing/Explosion</td>\n",
       "    </tr>\n",
       "    <tr>\n",
       "      <th>29</th>\n",
       "      <td>United States</td>\n",
       "      <td>Facility/Infrastructure Attack</td>\n",
       "    </tr>\n",
       "    <tr>\n",
       "      <th>30</th>\n",
       "      <td>United States</td>\n",
       "      <td>Armed Assault</td>\n",
       "    </tr>\n",
       "    <tr>\n",
       "      <th>31</th>\n",
       "      <td>United States</td>\n",
       "      <td>Bombing/Explosion</td>\n",
       "    </tr>\n",
       "    <tr>\n",
       "      <th>32</th>\n",
       "      <td>United States</td>\n",
       "      <td>Armed Assault</td>\n",
       "    </tr>\n",
       "    <tr>\n",
       "      <th>33</th>\n",
       "      <td>United States</td>\n",
       "      <td>Facility/Infrastructure Attack</td>\n",
       "    </tr>\n",
       "    <tr>\n",
       "      <th>34</th>\n",
       "      <td>East Germany (GDR)</td>\n",
       "      <td>Facility/Infrastructure Attack</td>\n",
       "    </tr>\n",
       "    <tr>\n",
       "      <th>35</th>\n",
       "      <td>United States</td>\n",
       "      <td>Bombing/Explosion</td>\n",
       "    </tr>\n",
       "    <tr>\n",
       "      <th>36</th>\n",
       "      <td>United States</td>\n",
       "      <td>Bombing/Explosion</td>\n",
       "    </tr>\n",
       "    <tr>\n",
       "      <th>37</th>\n",
       "      <td>United States</td>\n",
       "      <td>Bombing/Explosion</td>\n",
       "    </tr>\n",
       "    <tr>\n",
       "      <th>38</th>\n",
       "      <td>United States</td>\n",
       "      <td>Facility/Infrastructure Attack</td>\n",
       "    </tr>\n",
       "    <tr>\n",
       "      <th>39</th>\n",
       "      <td>Philippines</td>\n",
       "      <td>Unknown</td>\n",
       "    </tr>\n",
       "    <tr>\n",
       "      <th>40</th>\n",
       "      <td>United States</td>\n",
       "      <td>Bombing/Explosion</td>\n",
       "    </tr>\n",
       "    <tr>\n",
       "      <th>41</th>\n",
       "      <td>United States</td>\n",
       "      <td>Facility/Infrastructure Attack</td>\n",
       "    </tr>\n",
       "    <tr>\n",
       "      <th>42</th>\n",
       "      <td>United States</td>\n",
       "      <td>Armed Assault</td>\n",
       "    </tr>\n",
       "    <tr>\n",
       "      <th>43</th>\n",
       "      <td>United States</td>\n",
       "      <td>Facility/Infrastructure Attack</td>\n",
       "    </tr>\n",
       "    <tr>\n",
       "      <th>44</th>\n",
       "      <td>United States</td>\n",
       "      <td>Facility/Infrastructure Attack</td>\n",
       "    </tr>\n",
       "    <tr>\n",
       "      <th>45</th>\n",
       "      <td>United States</td>\n",
       "      <td>Facility/Infrastructure Attack</td>\n",
       "    </tr>\n",
       "    <tr>\n",
       "      <th>46</th>\n",
       "      <td>United States</td>\n",
       "      <td>Bombing/Explosion</td>\n",
       "    </tr>\n",
       "    <tr>\n",
       "      <th>47</th>\n",
       "      <td>United States</td>\n",
       "      <td>Bombing/Explosion</td>\n",
       "    </tr>\n",
       "    <tr>\n",
       "      <th>48</th>\n",
       "      <td>United States</td>\n",
       "      <td>Bombing/Explosion</td>\n",
       "    </tr>\n",
       "    <tr>\n",
       "      <th>49</th>\n",
       "      <td>United States</td>\n",
       "      <td>Bombing/Explosion</td>\n",
       "    </tr>\n",
       "  </tbody>\n",
       "</table>\n",
       "</div>"
      ],
      "text/plain": [
       "               Country                     Attack_type\n",
       "0   Dominican Republic                   Assassination\n",
       "1               Mexico     Hostage Taking (Kidnapping)\n",
       "2          Philippines                   Assassination\n",
       "3               Greece               Bombing/Explosion\n",
       "4                Japan  Facility/Infrastructure Attack\n",
       "5        United States                   Armed Assault\n",
       "6              Uruguay                   Assassination\n",
       "7        United States               Bombing/Explosion\n",
       "8        United States  Facility/Infrastructure Attack\n",
       "9        United States  Facility/Infrastructure Attack\n",
       "10       United States               Bombing/Explosion\n",
       "11       United States  Facility/Infrastructure Attack\n",
       "12               Italy                       Hijacking\n",
       "13       United States  Facility/Infrastructure Attack\n",
       "14       United States  Facility/Infrastructure Attack\n",
       "15  East Germany (GDR)               Bombing/Explosion\n",
       "16            Ethiopia                         Unknown\n",
       "17       United States               Bombing/Explosion\n",
       "18       United States               Bombing/Explosion\n",
       "19       United States  Facility/Infrastructure Attack\n",
       "20       United States  Facility/Infrastructure Attack\n",
       "21             Uruguay                   Armed Assault\n",
       "22       United States               Bombing/Explosion\n",
       "23       United States               Bombing/Explosion\n",
       "24       United States  Facility/Infrastructure Attack\n",
       "25           Guatemala                   Assassination\n",
       "26         Philippines               Bombing/Explosion\n",
       "27           Venezuela     Hostage Taking (Kidnapping)\n",
       "28       United States               Bombing/Explosion\n",
       "29       United States  Facility/Infrastructure Attack\n",
       "30       United States                   Armed Assault\n",
       "31       United States               Bombing/Explosion\n",
       "32       United States                   Armed Assault\n",
       "33       United States  Facility/Infrastructure Attack\n",
       "34  East Germany (GDR)  Facility/Infrastructure Attack\n",
       "35       United States               Bombing/Explosion\n",
       "36       United States               Bombing/Explosion\n",
       "37       United States               Bombing/Explosion\n",
       "38       United States  Facility/Infrastructure Attack\n",
       "39         Philippines                         Unknown\n",
       "40       United States               Bombing/Explosion\n",
       "41       United States  Facility/Infrastructure Attack\n",
       "42       United States                   Armed Assault\n",
       "43       United States  Facility/Infrastructure Attack\n",
       "44       United States  Facility/Infrastructure Attack\n",
       "45       United States  Facility/Infrastructure Attack\n",
       "46       United States               Bombing/Explosion\n",
       "47       United States               Bombing/Explosion\n",
       "48       United States               Bombing/Explosion\n",
       "49       United States               Bombing/Explosion"
      ]
     },
     "execution_count": 90,
     "metadata": {},
     "output_type": "execute_result"
    }
   ],
   "source": [
    "df_country=terrorism_df[['Country','Attack_type']]\n",
    "main_country=df_country.head(50)\n",
    "main_country"
   ]
  },
  {
   "cell_type": "code",
   "execution_count": null,
   "id": "1f7856b3",
   "metadata": {},
   "outputs": [],
   "source": [
    "]"
   ]
  },
  {
   "cell_type": "code",
   "execution_count": 87,
   "id": "0a0e7ddc",
   "metadata": {
    "scrolled": true
   },
   "outputs": [
    {
     "data": {
      "text/plain": [
       "0         False\n",
       "1         False\n",
       "2         False\n",
       "3         False\n",
       "4         False\n",
       "          ...  \n",
       "181686     True\n",
       "181687     True\n",
       "181688     True\n",
       "181689     True\n",
       "181690     True\n",
       "Length: 181691, dtype: bool"
      ]
     },
     "execution_count": 87,
     "metadata": {},
     "output_type": "execute_result"
    }
   ],
   "source": [
    "df_country.duplicated(subset=None, keep='first')"
   ]
  },
  {
   "cell_type": "code",
   "execution_count": 31,
   "id": "5db08beb",
   "metadata": {},
   "outputs": [
    {
     "name": "stdout",
     "output_type": "stream",
     "text": [
      "['Assassination' 'Hostage Taking (Kidnapping)' 'Bombing/Explosion'\n",
      " 'Facility/Infrastructure Attack' 'Armed Assault' 'Hijacking' 'Unknown'\n",
      " 'Unarmed Assault' 'Hostage Taking (Barricade Incident)']\n"
     ]
    }
   ],
   "source": [
    "print(terrorism_df['Attack_type'].unique())"
   ]
  },
  {
   "cell_type": "code",
   "execution_count": 32,
   "id": "29440f89",
   "metadata": {},
   "outputs": [
    {
     "name": "stdout",
     "output_type": "stream",
     "text": [
      "['Private Citizens & Property' 'Government (Diplomatic)'\n",
      " 'Journalists & Media' 'Police' 'Utilities' 'Military'\n",
      " 'Government (General)' 'Airports & Aircraft' 'Business'\n",
      " 'Educational Institution' 'Violent Political Party'\n",
      " 'Religious Figures/Institutions' 'Unknown' 'Transportation' 'Tourists'\n",
      " 'NGO' 'Telecommunication' 'Food or Water Supply'\n",
      " 'Terrorists/Non-State Militia' 'Other' 'Maritime' 'Abortion Related']\n"
     ]
    }
   ],
   "source": [
    "print(terrorism_df['Target_type'].unique())"
   ]
  },
  {
   "cell_type": "code",
   "execution_count": 33,
   "id": "54903b5c",
   "metadata": {},
   "outputs": [
    {
     "name": "stdout",
     "output_type": "stream",
     "text": [
      "['MANO-D' '23rd of September Communist League' 'Unknown' ...\n",
      " 'Fatoni Warriors' 'Minorities of Metropolitan Attacks'\n",
      " 'Baloch Republican Party']\n",
      "3537\n"
     ]
    }
   ],
   "source": [
    "print(terrorism_df['Gang_name'].unique())\n",
    "print(terrorism_df['Gang_name'].nunique())"
   ]
  },
  {
   "cell_type": "code",
   "execution_count": 34,
   "id": "c059a334",
   "metadata": {},
   "outputs": [
    {
     "name": "stdout",
     "output_type": "stream",
     "text": [
      "['Unknown' 'Explosives' 'Incendiary' 'Firearms' 'Chemical' 'Melee'\n",
      " 'Sabotage Equipment' 'Vehicle' 'Fake Weapons' 'Radiological' 'Other'\n",
      " 'Biological']\n"
     ]
    }
   ],
   "source": [
    "print(terrorism_df['Weapon_type'].unique())"
   ]
  },
  {
   "cell_type": "code",
   "execution_count": 35,
   "id": "24ac86d1",
   "metadata": {},
   "outputs": [
    {
     "name": "stdout",
     "output_type": "stream",
     "text": [
      "<class 'pandas.core.frame.DataFrame'>\n",
      "RangeIndex: 181691 entries, 0 to 181690\n",
      "Data columns (total 12 columns):\n",
      " #   Column          Non-Null Count   Dtype \n",
      "---  ------          --------------   ----- \n",
      " 0   Year            181691 non-null  int64 \n",
      " 1   Month           181691 non-null  int64 \n",
      " 2   Day             181691 non-null  int64 \n",
      " 3   Country         181691 non-null  object\n",
      " 4   Region          181691 non-null  object\n",
      " 5   State           181691 non-null  object\n",
      " 6   City            181691 non-null  object\n",
      " 7   Attack_type     181691 non-null  object\n",
      " 8   Target_type     181691 non-null  object\n",
      " 9   Target_subtype  181691 non-null  object\n",
      " 10  Gang_name       181691 non-null  object\n",
      " 11  Weapon_type     181691 non-null  object\n",
      "dtypes: int64(3), object(9)\n",
      "memory usage: 16.6+ MB\n"
     ]
    }
   ],
   "source": [
    "terrorism_df.info()"
   ]
  },
  {
   "cell_type": "code",
   "execution_count": 37,
   "id": "6c1f753e",
   "metadata": {
    "scrolled": false
   },
   "outputs": [
    {
     "data": {
      "text/plain": [
       "Iraq              24636\n",
       "Pakistan          14368\n",
       "Afghanistan       12731\n",
       "India             11960\n",
       "Colombia           8306\n",
       "Philippines        6908\n",
       "Peru               6096\n",
       "El Salvador        5320\n",
       "United Kingdom     5235\n",
       "Turkey             4292\n",
       "Name: Country, dtype: int64"
      ]
     },
     "execution_count": 37,
     "metadata": {},
     "output_type": "execute_result"
    }
   ],
   "source": [
    "terrorism_df['Country'].value_counts().head(10)"
   ]
  },
  {
   "cell_type": "markdown",
   "id": "e6855650",
   "metadata": {},
   "source": [
    "### These are those countries in which terrorism is at its peak."
   ]
  },
  {
   "cell_type": "code",
   "execution_count": 38,
   "id": "9ade6810",
   "metadata": {},
   "outputs": [
    {
     "data": {
      "text/plain": [
       "Middle East & North Africa     50474\n",
       "South Asia                     44974\n",
       "South America                  18978\n",
       "Sub-Saharan Africa             17550\n",
       "Western Europe                 16639\n",
       "Southeast Asia                 12485\n",
       "Central America & Caribbean    10344\n",
       "Eastern Europe                  5144\n",
       "North America                   3456\n",
       "East Asia                        802\n",
       "Name: Region, dtype: int64"
      ]
     },
     "execution_count": 38,
     "metadata": {},
     "output_type": "execute_result"
    }
   ],
   "source": [
    "terrorism_df['Region'].value_counts().head(10)"
   ]
  },
  {
   "cell_type": "code",
   "execution_count": 39,
   "id": "7eb81ee5",
   "metadata": {},
   "outputs": [
    {
     "data": {
      "text/plain": [
       "Baghdad               7645\n",
       "Unknown               4711\n",
       "Northern Ireland      4498\n",
       "Balochistan           3710\n",
       "Saladin               3411\n",
       "Al Anbar              3299\n",
       "Nineveh               3241\n",
       "Sindh                 3206\n",
       "Khyber Pakhtunkhwa    3084\n",
       "Diyala                3041\n",
       "Name: State, dtype: int64"
      ]
     },
     "execution_count": 39,
     "metadata": {},
     "output_type": "execute_result"
    }
   ],
   "source": [
    "terrorism_df['State'].value_counts().head(10)"
   ]
  },
  {
   "cell_type": "code",
   "execution_count": 40,
   "id": "1c9cf9c0",
   "metadata": {},
   "outputs": [
    {
     "data": {
      "text/plain": [
       "Unnamed Civilian/Unspecified                               11596\n",
       "Police Security Forces/Officers                            11178\n",
       "others                                                     10373\n",
       "Military Unit/Patrol/Convoy                                 8277\n",
       "Military Personnel (soldiers, troops, officers, forces)     7963\n",
       "Government Personnel (excluding police, military)           6610\n",
       "Village/City/Town/Suburb                                    6542\n",
       "Politician or Political Party Movement/Meeting/Rally        6306\n",
       "Police Building (headquarters, station, school)             5907\n",
       "Military Barracks/Base/Headquarters/Checkpost               5211\n",
       "Name: Target_subtype, dtype: int64"
      ]
     },
     "execution_count": 40,
     "metadata": {},
     "output_type": "execute_result"
    }
   ],
   "source": [
    "terrorism_df['Target_subtype'].value_counts().head(10)"
   ]
  },
  {
   "cell_type": "code",
   "execution_count": 41,
   "id": "32945c61",
   "metadata": {},
   "outputs": [
    {
     "data": {
      "text/plain": [
       "Unknown         10209\n",
       "Baghdad          7589\n",
       "Karachi          2652\n",
       "Lima             2359\n",
       "Mosul            2265\n",
       "Belfast          2171\n",
       "Santiago         1621\n",
       "Mogadishu        1581\n",
       "San Salvador     1558\n",
       "Istanbul         1048\n",
       "Name: City, dtype: int64"
      ]
     },
     "execution_count": 41,
     "metadata": {},
     "output_type": "execute_result"
    }
   ],
   "source": [
    "terrorism_df['City'].value_counts().head(10)"
   ]
  },
  {
   "cell_type": "code",
   "execution_count": 42,
   "id": "f3a980a8",
   "metadata": {
    "scrolled": true
   },
   "outputs": [
    {
     "data": {
      "text/plain": [
       "Bombing/Explosion                      88255\n",
       "Armed Assault                          42669\n",
       "Assassination                          19312\n",
       "Hostage Taking (Kidnapping)            11158\n",
       "Facility/Infrastructure Attack         10356\n",
       "Unknown                                 7276\n",
       "Unarmed Assault                         1015\n",
       "Hostage Taking (Barricade Incident)      991\n",
       "Hijacking                                659\n",
       "Name: Attack_type, dtype: int64"
      ]
     },
     "execution_count": 42,
     "metadata": {},
     "output_type": "execute_result"
    }
   ],
   "source": [
    "terrorism_df['Attack_type'].value_counts().head(10)"
   ]
  },
  {
   "cell_type": "markdown",
   "id": "d5a51748",
   "metadata": {},
   "source": [
    "### From above, it is clear that most terrorist attacks happened in Private Citizen & property area and Military area."
   ]
  },
  {
   "cell_type": "code",
   "execution_count": 45,
   "id": "14cbc864",
   "metadata": {},
   "outputs": [
    {
     "data": {
      "text/plain": [
       "Explosives    92426\n",
       "Firearms      58524\n",
       "Unknown       15157\n",
       "Incendiary    11135\n",
       "Melee          3655\n",
       "Name: Weapon_type, dtype: int64"
      ]
     },
     "execution_count": 45,
     "metadata": {},
     "output_type": "execute_result"
    }
   ],
   "source": [
    "terrorism_df['Weapon_type'].value_counts().head(5)\n"
   ]
  },
  {
   "cell_type": "markdown",
   "id": "3e169be2",
   "metadata": {},
   "source": [
    "#### <b> These are the most Chosen weapons for attacks.Explosives are Choosen most.</b>"
   ]
  },
  {
   "cell_type": "markdown",
   "id": "e2225db0",
   "metadata": {},
   "source": [
    "# Visualization"
   ]
  },
  {
   "cell_type": "code",
   "execution_count": 97,
   "id": "b6ea23f2",
   "metadata": {
    "scrolled": true
   },
   "outputs": [
    {
     "data": {
      "text/plain": [
       "<AxesSubplot:xlabel='Year', ylabel='Density'>"
      ]
     },
     "execution_count": 97,
     "metadata": {},
     "output_type": "execute_result"
    },
    {
     "data": {
      "image/png": "[encoded data removed]",
      "text/plain": [
       "<Figure size 432x288 with 1 Axes>"
      ]
     },
     "metadata": {
      "needs_background": "light"
     },
     "output_type": "display_data"
    }
   ],
   "source": [
    "sns.kdeplot(x='Year', data=terrorism_df, hue='Weapon_type')"
   ]
  },
  {
   "cell_type": "markdown",
   "id": "5204c2a2",
   "metadata": {},
   "source": [
    "### We can see that weapons use increase in early 20th century."
   ]
  },
  {
   "cell_type": "code",
   "execution_count": 95,
   "id": "ba57d37d",
   "metadata": {
    "scrolled": true
   },
   "outputs": [
    {
     "data": {
      "image/png": "[encoded data removed]",
      "text/plain": [
       "<Figure size 432x288 with 1 Axes>"
      ]
     },
     "metadata": {},
     "output_type": "display_data"
    }
   ],
   "source": [
    "terrorism_df['Weapon_type'].value_counts().plot(kind=\"pie\", autopct=\"%.2f\")\n",
    "plt.show()"
   ]
  },
  {
   "cell_type": "markdown",
   "id": "708f9583",
   "metadata": {},
   "source": [
    "### Hence, Explosives covers large area as you can see and after that firearms."
   ]
  },
  {
   "cell_type": "code",
   "execution_count": 98,
   "id": "ad3c7620",
   "metadata": {
    "scrolled": true
   },
   "outputs": [
    {
     "data": {
      "image/png": "[encoded data removed]",
      "text/plain": [
       "<Figure size 2016x360 with 1 Axes>"
      ]
     },
     "metadata": {
      "needs_background": "light"
     },
     "output_type": "display_data"
    }
   ],
   "source": [
    "plt.figure(figsize=(28,5));\n",
    "plt.rcParams.update({'font.size':10});\n",
    "plt.xticks(rotation = 0)\n",
    "plt.title('Attacks by Region')\n",
    "sns.countplot(x=terrorism_df.Region);"
   ]
  },
  {
   "cell_type": "markdown",
   "id": "d543ef25",
   "metadata": {},
   "source": [
    "### Middle East and North Africa region lists top in terrorist attacks and South Asia is the 2nd Victim area by Terrorist attacks"
   ]
  },
  {
   "cell_type": "code",
   "execution_count": 59,
   "id": "090e30af",
   "metadata": {},
   "outputs": [
    {
     "data": {
      "image/png": "[encoded data removed]",
      "text/plain": [
       "<Figure size 1800x360 with 1 Axes>"
      ]
     },
     "metadata": {
      "needs_background": "light"
     },
     "output_type": "display_data"
    }
   ],
   "source": [
    "plt.figure(figsize=(25,5));\n",
    "plt.rcParams.update({'font.size':12});\n",
    "plt.xticks(rotation = 0)\n",
    "plt.title('Based on Attack type')\n",
    "sns.countplot(x=terrorism_df.Attack_type);"
   ]
  },
  {
   "cell_type": "markdown",
   "id": "b04d71aa",
   "metadata": {},
   "source": [
    "### Bombing and explosions happened for the maximum times."
   ]
  },
  {
   "cell_type": "code",
   "execution_count": 99,
   "id": "5692accf",
   "metadata": {},
   "outputs": [
    {
     "data": {
      "image/png": "[encoded data removed]",
      "text/plain": [
       "<Figure size 1440x360 with 1 Axes>"
      ]
     },
     "metadata": {
      "needs_background": "light"
     },
     "output_type": "display_data"
    }
   ],
   "source": [
    "plt.figure(figsize=(20,5));\n",
    "plt.title('Attacks by Day')\n",
    "sns.countplot(x=terrorism_df.Day);"
   ]
  },
  {
   "cell_type": "markdown",
   "id": "22dc63c7",
   "metadata": {},
   "source": [
    "### Almost Every day has the same contribution but attacks were low during 31st and high during 15th and 1st"
   ]
  }
 ],
 "metadata": {
  "kernelspec": {
   "display_name": "Python 3 (ipykernel)",
   "language": "python",
   "name": "python3"
  },
  "language_info": {
   "codemirror_mode": {
    "name": "ipython",
    "version": 3
   },
   "file_extension": ".py",
   "mimetype": "text/x-python",
   "name": "python",
   "nbconvert_exporter": "python",
   "pygments_lexer": "ipython3",
   "version": "3.9.12"
  }
 },
 "nbformat": 4,
 "nbformat_minor": 5
}
